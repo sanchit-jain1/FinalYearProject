{
  "cells": [
    {
      "cell_type": "markdown",
      "metadata": {
        "id": "TxZ2zNkxs8fa"
      },
      "source": [
        "Importing the Dependencies"
      ]
    },
    {
      "cell_type": "code",
      "execution_count": 102,
      "metadata": {
        "id": "ZodcCFAuHOUt"
      },
      "outputs": [],
      "source": [
        "import pandas as pd\n",
        "import numpy as np\n",
        "import matplotlib.pyplot as plt\n",
        "import seaborn as sns\n",
        "\n",
        "from sklearn.model_selection import  train_test_split,cross_val_score,RandomizedSearchCV\n",
        "from sklearn.feature_selection import SelectKBest\n",
        "from sklearn.feature_selection import f_regression\n",
        "from sklearn.metrics import mean_absolute_error,mean_squared_error,r2_score,accuracy_score\n",
        "from sklearn.linear_model import LinearRegression\n",
        "from sklearn.ensemble import RandomForestRegressor, GradientBoostingRegressor\n",
        "import xgboost as xgb\n",
        "from xgboost import XGBRegressor\n",
        "from sklearn.model_selection import cross_val_score\n",
        "\n",
        "\n",
        "lr = LinearRegression()\n",
        "rr = RandomForestRegressor()\n",
        "gbr = GradientBoostingRegressor()\n",
        "xgb = xgb.XGBRegressor()\n",
        "\n",
        "import pickle\n",
        "\n",
        "\n",
        "import warnings\n",
        "warnings.filterwarnings('ignore')"
      ]
    },
    {
      "cell_type": "markdown",
      "metadata": {
        "id": "p97zZE7RtPza"
      },
      "source": [
        "Data Collections and Processing"
      ]
    },
    {
      "cell_type": "code",
      "execution_count": 103,
      "metadata": {
        "id": "qecVHEgcpNht"
      },
      "outputs": [],
      "source": [
        "# Loading Dataset from csv file\n",
        "ds=pd.read_csv('dataset.csv')"
      ]
    },
    {
      "cell_type": "code",
      "execution_count": 104,
      "metadata": {
        "colab": {
          "base_uri": "https://localhost:8080/",
          "height": 206
        },
        "id": "qLagohXhsSPE",
        "outputId": "d5f78d5a-e1e6-42de-c53c-378ebe70816b"
      },
      "outputs": [
        {
          "data": {
            "text/html": [
              "<div>\n",
              "<style scoped>\n",
              "    .dataframe tbody tr th:only-of-type {\n",
              "        vertical-align: middle;\n",
              "    }\n",
              "\n",
              "    .dataframe tbody tr th {\n",
              "        vertical-align: top;\n",
              "    }\n",
              "\n",
              "    .dataframe thead th {\n",
              "        text-align: right;\n",
              "    }\n",
              "</style>\n",
              "<table border=\"1\" class=\"dataframe\">\n",
              "  <thead>\n",
              "    <tr style=\"text-align: right;\">\n",
              "      <th></th>\n",
              "      <th>Car_Name</th>\n",
              "      <th>Year</th>\n",
              "      <th>Selling_Price</th>\n",
              "      <th>Present_Price</th>\n",
              "      <th>Kms_Driven</th>\n",
              "      <th>Fuel_Type</th>\n",
              "      <th>Seller_Type</th>\n",
              "      <th>Transmission</th>\n",
              "      <th>Owner</th>\n",
              "      <th>Bs_version</th>\n",
              "    </tr>\n",
              "  </thead>\n",
              "  <tbody>\n",
              "    <tr>\n",
              "      <th>0</th>\n",
              "      <td>ritz</td>\n",
              "      <td>2014</td>\n",
              "      <td>3.35</td>\n",
              "      <td>5.59</td>\n",
              "      <td>27000</td>\n",
              "      <td>Petrol</td>\n",
              "      <td>Dealer</td>\n",
              "      <td>Manual</td>\n",
              "      <td>0</td>\n",
              "      <td>bs3</td>\n",
              "    </tr>\n",
              "    <tr>\n",
              "      <th>1</th>\n",
              "      <td>sx4</td>\n",
              "      <td>2013</td>\n",
              "      <td>4.75</td>\n",
              "      <td>9.54</td>\n",
              "      <td>43000</td>\n",
              "      <td>Diesel</td>\n",
              "      <td>Dealer</td>\n",
              "      <td>Manual</td>\n",
              "      <td>0</td>\n",
              "      <td>bs3</td>\n",
              "    </tr>\n",
              "    <tr>\n",
              "      <th>2</th>\n",
              "      <td>ciaz</td>\n",
              "      <td>2017</td>\n",
              "      <td>7.25</td>\n",
              "      <td>9.85</td>\n",
              "      <td>6900</td>\n",
              "      <td>Petrol</td>\n",
              "      <td>Dealer</td>\n",
              "      <td>Manual</td>\n",
              "      <td>0</td>\n",
              "      <td>bs4</td>\n",
              "    </tr>\n",
              "    <tr>\n",
              "      <th>3</th>\n",
              "      <td>wagon r</td>\n",
              "      <td>2011</td>\n",
              "      <td>2.85</td>\n",
              "      <td>4.15</td>\n",
              "      <td>5200</td>\n",
              "      <td>Petrol</td>\n",
              "      <td>Dealer</td>\n",
              "      <td>Manual</td>\n",
              "      <td>0</td>\n",
              "      <td>bs3</td>\n",
              "    </tr>\n",
              "    <tr>\n",
              "      <th>4</th>\n",
              "      <td>swift</td>\n",
              "      <td>2014</td>\n",
              "      <td>4.60</td>\n",
              "      <td>6.87</td>\n",
              "      <td>42450</td>\n",
              "      <td>Diesel</td>\n",
              "      <td>Dealer</td>\n",
              "      <td>Manual</td>\n",
              "      <td>0</td>\n",
              "      <td>bs3</td>\n",
              "    </tr>\n",
              "  </tbody>\n",
              "</table>\n",
              "</div>"
            ],
            "text/plain": [
              "  Car_Name  Year  Selling_Price  Present_Price  Kms_Driven Fuel_Type  \\\n",
              "0     ritz  2014           3.35           5.59       27000    Petrol   \n",
              "1      sx4  2013           4.75           9.54       43000    Diesel   \n",
              "2     ciaz  2017           7.25           9.85        6900    Petrol   \n",
              "3  wagon r  2011           2.85           4.15        5200    Petrol   \n",
              "4    swift  2014           4.60           6.87       42450    Diesel   \n",
              "\n",
              "  Seller_Type Transmission  Owner Bs_version  \n",
              "0      Dealer       Manual      0        bs3  \n",
              "1      Dealer       Manual      0        bs3  \n",
              "2      Dealer       Manual      0        bs4  \n",
              "3      Dealer       Manual      0        bs3  \n",
              "4      Dealer       Manual      0        bs3  "
            ]
          },
          "execution_count": 104,
          "metadata": {},
          "output_type": "execute_result"
        }
      ],
      "source": [
        "#Inspecting first 5 rows in Dataset\n",
        "ds.head()"
      ]
    },
    {
      "cell_type": "code",
      "execution_count": 105,
      "metadata": {
        "colab": {
          "base_uri": "https://localhost:8080/"
        },
        "id": "YM7iVZsMsquS",
        "outputId": "8cac75b9-a4e8-4ee8-8486-5413ab9cb49a"
      },
      "outputs": [
        {
          "name": "stdout",
          "output_type": "stream",
          "text": [
            "<class 'pandas.core.frame.DataFrame'>\n",
            "RangeIndex: 306 entries, 0 to 305\n",
            "Data columns (total 10 columns):\n",
            " #   Column         Non-Null Count  Dtype  \n",
            "---  ------         --------------  -----  \n",
            " 0   Car_Name       306 non-null    object \n",
            " 1   Year           306 non-null    int64  \n",
            " 2   Selling_Price  300 non-null    float64\n",
            " 3   Present_Price  306 non-null    float64\n",
            " 4   Kms_Driven     306 non-null    int64  \n",
            " 5   Fuel_Type      306 non-null    object \n",
            " 6   Seller_Type    306 non-null    object \n",
            " 7   Transmission   306 non-null    object \n",
            " 8   Owner          306 non-null    int64  \n",
            " 9   Bs_version     306 non-null    object \n",
            "dtypes: float64(2), int64(3), object(5)\n",
            "memory usage: 24.0+ KB\n"
          ]
        }
      ],
      "source": [
        "#Getting information of dataset\n",
        "ds.info()"
      ]
    },
    {
      "cell_type": "code",
      "execution_count": 106,
      "metadata": {
        "colab": {
          "base_uri": "https://localhost:8080/"
        },
        "id": "wpXykxC8uFn1",
        "outputId": "e5037e29-b4e7-4058-aa12-0554b4fbdfa5"
      },
      "outputs": [
        {
          "data": {
            "text/plain": [
              "(306, 10)"
            ]
          },
          "execution_count": 106,
          "metadata": {},
          "output_type": "execute_result"
        }
      ],
      "source": [
        "ds.shape"
      ]
    },
    {
      "cell_type": "code",
      "execution_count": 107,
      "metadata": {
        "colab": {
          "base_uri": "https://localhost:8080/",
          "height": 300
        },
        "id": "ITfp_9vD_Hs2",
        "outputId": "8d7c8a6c-4a97-477f-c66c-60aae5cce0ac"
      },
      "outputs": [
        {
          "data": {
            "text/html": [
              "<div>\n",
              "<style scoped>\n",
              "    .dataframe tbody tr th:only-of-type {\n",
              "        vertical-align: middle;\n",
              "    }\n",
              "\n",
              "    .dataframe tbody tr th {\n",
              "        vertical-align: top;\n",
              "    }\n",
              "\n",
              "    .dataframe thead th {\n",
              "        text-align: right;\n",
              "    }\n",
              "</style>\n",
              "<table border=\"1\" class=\"dataframe\">\n",
              "  <thead>\n",
              "    <tr style=\"text-align: right;\">\n",
              "      <th></th>\n",
              "      <th>Year</th>\n",
              "      <th>Selling_Price</th>\n",
              "      <th>Present_Price</th>\n",
              "      <th>Kms_Driven</th>\n",
              "      <th>Owner</th>\n",
              "    </tr>\n",
              "  </thead>\n",
              "  <tbody>\n",
              "    <tr>\n",
              "      <th>count</th>\n",
              "      <td>306.000000</td>\n",
              "      <td>300.000000</td>\n",
              "      <td>306.000000</td>\n",
              "      <td>306.000000</td>\n",
              "      <td>306.000000</td>\n",
              "    </tr>\n",
              "    <tr>\n",
              "      <th>mean</th>\n",
              "      <td>2013.614379</td>\n",
              "      <td>4.675667</td>\n",
              "      <td>7.675033</td>\n",
              "      <td>37170.346405</td>\n",
              "      <td>0.042484</td>\n",
              "    </tr>\n",
              "    <tr>\n",
              "      <th>std</th>\n",
              "      <td>2.891761</td>\n",
              "      <td>5.085175</td>\n",
              "      <td>8.584846</td>\n",
              "      <td>38700.259478</td>\n",
              "      <td>0.245936</td>\n",
              "    </tr>\n",
              "    <tr>\n",
              "      <th>min</th>\n",
              "      <td>2003.000000</td>\n",
              "      <td>0.100000</td>\n",
              "      <td>0.320000</td>\n",
              "      <td>500.000000</td>\n",
              "      <td>0.000000</td>\n",
              "    </tr>\n",
              "    <tr>\n",
              "      <th>25%</th>\n",
              "      <td>2012.000000</td>\n",
              "      <td>0.900000</td>\n",
              "      <td>1.295000</td>\n",
              "      <td>15000.250000</td>\n",
              "      <td>0.000000</td>\n",
              "    </tr>\n",
              "    <tr>\n",
              "      <th>50%</th>\n",
              "      <td>2014.000000</td>\n",
              "      <td>3.625000</td>\n",
              "      <td>6.760000</td>\n",
              "      <td>32661.000000</td>\n",
              "      <td>0.000000</td>\n",
              "    </tr>\n",
              "    <tr>\n",
              "      <th>75%</th>\n",
              "      <td>2016.000000</td>\n",
              "      <td>6.000000</td>\n",
              "      <td>9.900000</td>\n",
              "      <td>48941.750000</td>\n",
              "      <td>0.000000</td>\n",
              "    </tr>\n",
              "    <tr>\n",
              "      <th>max</th>\n",
              "      <td>2018.000000</td>\n",
              "      <td>35.000000</td>\n",
              "      <td>92.600000</td>\n",
              "      <td>500000.000000</td>\n",
              "      <td>3.000000</td>\n",
              "    </tr>\n",
              "  </tbody>\n",
              "</table>\n",
              "</div>"
            ],
            "text/plain": [
              "              Year  Selling_Price  Present_Price     Kms_Driven       Owner\n",
              "count   306.000000     300.000000     306.000000     306.000000  306.000000\n",
              "mean   2013.614379       4.675667       7.675033   37170.346405    0.042484\n",
              "std       2.891761       5.085175       8.584846   38700.259478    0.245936\n",
              "min    2003.000000       0.100000       0.320000     500.000000    0.000000\n",
              "25%    2012.000000       0.900000       1.295000   15000.250000    0.000000\n",
              "50%    2014.000000       3.625000       6.760000   32661.000000    0.000000\n",
              "75%    2016.000000       6.000000       9.900000   48941.750000    0.000000\n",
              "max    2018.000000      35.000000      92.600000  500000.000000    3.000000"
            ]
          },
          "execution_count": 107,
          "metadata": {},
          "output_type": "execute_result"
        }
      ],
      "source": [
        "ds.describe()"
      ]
    },
    {
      "cell_type": "code",
      "execution_count": 108,
      "metadata": {
        "colab": {
          "base_uri": "https://localhost:8080/",
          "height": 344
        },
        "id": "GUCTAfSx_cwl",
        "outputId": "f22bd47d-e288-45fd-d9c9-a6689a4717ba"
      },
      "outputs": [
        {
          "data": {
            "text/plain": [
              "<AxesSubplot:>"
            ]
          },
          "execution_count": 108,
          "metadata": {},
          "output_type": "execute_result"
        },
        {
          "data": {
            "image/png": "[encoded data removed]",
            "text/plain": [
              "<Figure size 432x288 with 2 Axes>"
            ]
          },
          "metadata": {
            "needs_background": "light"
          },
          "output_type": "display_data"
        }
      ],
      "source": [
        "sns.heatmap(ds.isna(),annot=True)"
      ]
    },
    {
      "cell_type": "code",
      "execution_count": 109,
      "metadata": {
        "id": "5CBlcZ3TBn9E"
      },
      "outputs": [],
      "source": [
        "# Drop null value because it is less then 5%\n",
        "ds=ds.dropna()"
      ]
    },
    {
      "cell_type": "code",
      "execution_count": 110,
      "metadata": {
        "colab": {
          "base_uri": "https://localhost:8080/"
        },
        "id": "mOJvHf3OwUgk",
        "outputId": "1dbe2573-ac25-4ad0-a3cb-39202a6b18d5"
      },
      "outputs": [
        {
          "data": {
            "text/plain": [
              "Car_Name         0\n",
              "Year             0\n",
              "Selling_Price    0\n",
              "Present_Price    0\n",
              "Kms_Driven       0\n",
              "Fuel_Type        0\n",
              "Seller_Type      0\n",
              "Transmission     0\n",
              "Owner            0\n",
              "Bs_version       0\n",
              "dtype: int64"
            ]
          },
          "execution_count": 110,
          "metadata": {},
          "output_type": "execute_result"
        }
      ],
      "source": [
        "#checking number of missing values\n",
        "ds.isna().sum()"
      ]
    },
    {
      "cell_type": "code",
      "execution_count": 111,
      "metadata": {
        "colab": {
          "base_uri": "https://localhost:8080/"
        },
        "id": "0jDkiK3SxImW",
        "outputId": "ca637df1-97de-4395-b7a5-e09cb062790d"
      },
      "outputs": [
        {
          "name": "stdout",
          "output_type": "stream",
          "text": [
            "Petrol    238\n",
            "Diesel     60\n",
            "CNG         2\n",
            "Name: Fuel_Type, dtype: int64\n",
            "Dealer        195\n",
            "Individual    105\n",
            "Name: Seller_Type, dtype: int64\n",
            "Manual       260\n",
            "Automatic     40\n",
            "Name: Transmission, dtype: int64\n",
            "bs3    264\n",
            "bs4     36\n",
            "Name: Bs_version, dtype: int64\n"
          ]
        }
      ],
      "source": [
        "# checking the distribution of categorical data\n",
        "print(ds.Fuel_Type.value_counts())\n",
        "print(ds.Seller_Type.value_counts())\n",
        "print(ds.Transmission.value_counts())\n",
        "print(ds.Bs_version.value_counts())"
      ]
    },
    {
      "cell_type": "markdown",
      "metadata": {
        "id": "r2Ve7t3DDC7P"
      },
      "source": [
        "#### there so many car name so we can not use car name to predict selling price becz there are many numbers of cars"
      ]
    },
    {
      "cell_type": "code",
      "execution_count": 112,
      "metadata": {
        "id": "wdaqGR58DCdU"
      },
      "outputs": [],
      "source": [
        "final_dataset=ds[[ 'Year', 'Selling_Price', 'Present_Price', 'Kms_Driven',\n",
        "       'Fuel_Type', 'Seller_Type', 'Transmission', 'Owner',\"Bs_version\"]]"
      ]
    },
    {
      "cell_type": "code",
      "execution_count": 113,
      "metadata": {
        "colab": {
          "base_uri": "https://localhost:8080/",
          "height": 206
        },
        "id": "Ii8rAC28DNg-",
        "outputId": "980f227f-681a-471d-9620-a4025c953e04"
      },
      "outputs": [
        {
          "data": {
            "text/html": [
              "<div>\n",
              "<style scoped>\n",
              "    .dataframe tbody tr th:only-of-type {\n",
              "        vertical-align: middle;\n",
              "    }\n",
              "\n",
              "    .dataframe tbody tr th {\n",
              "        vertical-align: top;\n",
              "    }\n",
              "\n",
              "    .dataframe thead th {\n",
              "        text-align: right;\n",
              "    }\n",
              "</style>\n",
              "<table border=\"1\" class=\"dataframe\">\n",
              "  <thead>\n",
              "    <tr style=\"text-align: right;\">\n",
              "      <th></th>\n",
              "      <th>Year</th>\n",
              "      <th>Selling_Price</th>\n",
              "      <th>Present_Price</th>\n",
              "      <th>Kms_Driven</th>\n",
              "      <th>Fuel_Type</th>\n",
              "      <th>Seller_Type</th>\n",
              "      <th>Transmission</th>\n",
              "      <th>Owner</th>\n",
              "      <th>Bs_version</th>\n",
              "    </tr>\n",
              "  </thead>\n",
              "  <tbody>\n",
              "    <tr>\n",
              "      <th>0</th>\n",
              "      <td>2014</td>\n",
              "      <td>3.35</td>\n",
              "      <td>5.59</td>\n",
              "      <td>27000</td>\n",
              "      <td>Petrol</td>\n",
              "      <td>Dealer</td>\n",
              "      <td>Manual</td>\n",
              "      <td>0</td>\n",
              "      <td>bs3</td>\n",
              "    </tr>\n",
              "    <tr>\n",
              "      <th>1</th>\n",
              "      <td>2013</td>\n",
              "      <td>4.75</td>\n",
              "      <td>9.54</td>\n",
              "      <td>43000</td>\n",
              "      <td>Diesel</td>\n",
              "      <td>Dealer</td>\n",
              "      <td>Manual</td>\n",
              "      <td>0</td>\n",
              "      <td>bs3</td>\n",
              "    </tr>\n",
              "    <tr>\n",
              "      <th>2</th>\n",
              "      <td>2017</td>\n",
              "      <td>7.25</td>\n",
              "      <td>9.85</td>\n",
              "      <td>6900</td>\n",
              "      <td>Petrol</td>\n",
              "      <td>Dealer</td>\n",
              "      <td>Manual</td>\n",
              "      <td>0</td>\n",
              "      <td>bs4</td>\n",
              "    </tr>\n",
              "    <tr>\n",
              "      <th>3</th>\n",
              "      <td>2011</td>\n",
              "      <td>2.85</td>\n",
              "      <td>4.15</td>\n",
              "      <td>5200</td>\n",
              "      <td>Petrol</td>\n",
              "      <td>Dealer</td>\n",
              "      <td>Manual</td>\n",
              "      <td>0</td>\n",
              "      <td>bs3</td>\n",
              "    </tr>\n",
              "    <tr>\n",
              "      <th>4</th>\n",
              "      <td>2014</td>\n",
              "      <td>4.60</td>\n",
              "      <td>6.87</td>\n",
              "      <td>42450</td>\n",
              "      <td>Diesel</td>\n",
              "      <td>Dealer</td>\n",
              "      <td>Manual</td>\n",
              "      <td>0</td>\n",
              "      <td>bs3</td>\n",
              "    </tr>\n",
              "  </tbody>\n",
              "</table>\n",
              "</div>"
            ],
            "text/plain": [
              "   Year  Selling_Price  Present_Price  Kms_Driven Fuel_Type Seller_Type  \\\n",
              "0  2014           3.35           5.59       27000    Petrol      Dealer   \n",
              "1  2013           4.75           9.54       43000    Diesel      Dealer   \n",
              "2  2017           7.25           9.85        6900    Petrol      Dealer   \n",
              "3  2011           2.85           4.15        5200    Petrol      Dealer   \n",
              "4  2014           4.60           6.87       42450    Diesel      Dealer   \n",
              "\n",
              "  Transmission  Owner Bs_version  \n",
              "0       Manual      0        bs3  \n",
              "1       Manual      0        bs3  \n",
              "2       Manual      0        bs4  \n",
              "3       Manual      0        bs3  \n",
              "4       Manual      0        bs3  "
            ]
          },
          "execution_count": 113,
          "metadata": {},
          "output_type": "execute_result"
        }
      ],
      "source": [
        "final_dataset.head()"
      ]
    },
    {
      "cell_type": "code",
      "execution_count": 114,
      "metadata": {
        "colab": {
          "base_uri": "https://localhost:8080/",
          "height": 206
        },
        "id": "B5id_OjzDyzX",
        "outputId": "7d4011bf-6506-4f2a-8671-08d92a605e35"
      },
      "outputs": [
        {
          "data": {
            "text/html": [
              "<div>\n",
              "<style scoped>\n",
              "    .dataframe tbody tr th:only-of-type {\n",
              "        vertical-align: middle;\n",
              "    }\n",
              "\n",
              "    .dataframe tbody tr th {\n",
              "        vertical-align: top;\n",
              "    }\n",
              "\n",
              "    .dataframe thead th {\n",
              "        text-align: right;\n",
              "    }\n",
              "</style>\n",
              "<table border=\"1\" class=\"dataframe\">\n",
              "  <thead>\n",
              "    <tr style=\"text-align: right;\">\n",
              "      <th></th>\n",
              "      <th>Year</th>\n",
              "      <th>Selling_Price</th>\n",
              "      <th>Present_Price</th>\n",
              "      <th>Kms_Driven</th>\n",
              "      <th>Fuel_Type</th>\n",
              "      <th>Seller_Type</th>\n",
              "      <th>Transmission</th>\n",
              "      <th>Owner</th>\n",
              "      <th>Bs_version</th>\n",
              "      <th>Current_year</th>\n",
              "    </tr>\n",
              "  </thead>\n",
              "  <tbody>\n",
              "    <tr>\n",
              "      <th>0</th>\n",
              "      <td>2014</td>\n",
              "      <td>3.35</td>\n",
              "      <td>5.59</td>\n",
              "      <td>27000</td>\n",
              "      <td>Petrol</td>\n",
              "      <td>Dealer</td>\n",
              "      <td>Manual</td>\n",
              "      <td>0</td>\n",
              "      <td>bs3</td>\n",
              "      <td>2022</td>\n",
              "    </tr>\n",
              "    <tr>\n",
              "      <th>1</th>\n",
              "      <td>2013</td>\n",
              "      <td>4.75</td>\n",
              "      <td>9.54</td>\n",
              "      <td>43000</td>\n",
              "      <td>Diesel</td>\n",
              "      <td>Dealer</td>\n",
              "      <td>Manual</td>\n",
              "      <td>0</td>\n",
              "      <td>bs3</td>\n",
              "      <td>2022</td>\n",
              "    </tr>\n",
              "    <tr>\n",
              "      <th>2</th>\n",
              "      <td>2017</td>\n",
              "      <td>7.25</td>\n",
              "      <td>9.85</td>\n",
              "      <td>6900</td>\n",
              "      <td>Petrol</td>\n",
              "      <td>Dealer</td>\n",
              "      <td>Manual</td>\n",
              "      <td>0</td>\n",
              "      <td>bs4</td>\n",
              "      <td>2022</td>\n",
              "    </tr>\n",
              "    <tr>\n",
              "      <th>3</th>\n",
              "      <td>2011</td>\n",
              "      <td>2.85</td>\n",
              "      <td>4.15</td>\n",
              "      <td>5200</td>\n",
              "      <td>Petrol</td>\n",
              "      <td>Dealer</td>\n",
              "      <td>Manual</td>\n",
              "      <td>0</td>\n",
              "      <td>bs3</td>\n",
              "      <td>2022</td>\n",
              "    </tr>\n",
              "    <tr>\n",
              "      <th>4</th>\n",
              "      <td>2014</td>\n",
              "      <td>4.60</td>\n",
              "      <td>6.87</td>\n",
              "      <td>42450</td>\n",
              "      <td>Diesel</td>\n",
              "      <td>Dealer</td>\n",
              "      <td>Manual</td>\n",
              "      <td>0</td>\n",
              "      <td>bs3</td>\n",
              "      <td>2022</td>\n",
              "    </tr>\n",
              "  </tbody>\n",
              "</table>\n",
              "</div>"
            ],
            "text/plain": [
              "   Year  Selling_Price  Present_Price  Kms_Driven Fuel_Type Seller_Type  \\\n",
              "0  2014           3.35           5.59       27000    Petrol      Dealer   \n",
              "1  2013           4.75           9.54       43000    Diesel      Dealer   \n",
              "2  2017           7.25           9.85        6900    Petrol      Dealer   \n",
              "3  2011           2.85           4.15        5200    Petrol      Dealer   \n",
              "4  2014           4.60           6.87       42450    Diesel      Dealer   \n",
              "\n",
              "  Transmission  Owner Bs_version  Current_year  \n",
              "0       Manual      0        bs3          2022  \n",
              "1       Manual      0        bs3          2022  \n",
              "2       Manual      0        bs4          2022  \n",
              "3       Manual      0        bs3          2022  \n",
              "4       Manual      0        bs3          2022  "
            ]
          },
          "execution_count": 114,
          "metadata": {},
          "output_type": "execute_result"
        }
      ],
      "source": [
        "#Adding current year for predictions\n",
        "final_dataset['Current_year']=2022\n",
        "final_dataset.head()"
      ]
    },
    {
      "cell_type": "markdown",
      "metadata": {
        "id": "3WT0JQtxEDwH"
      },
      "source": [
        "#### To drive no_year to find selling price we used feature engneering to creat new column No_year using year and current_year column"
      ]
    },
    {
      "cell_type": "code",
      "execution_count": 115,
      "metadata": {
        "colab": {
          "base_uri": "https://localhost:8080/",
          "height": 206
        },
        "id": "hJv36tOiEI7M",
        "outputId": "a4601d85-3225-43ff-e4ba-ba02582ca129"
      },
      "outputs": [
        {
          "data": {
            "text/html": [
              "<div>\n",
              "<style scoped>\n",
              "    .dataframe tbody tr th:only-of-type {\n",
              "        vertical-align: middle;\n",
              "    }\n",
              "\n",
              "    .dataframe tbody tr th {\n",
              "        vertical-align: top;\n",
              "    }\n",
              "\n",
              "    .dataframe thead th {\n",
              "        text-align: right;\n",
              "    }\n",
              "</style>\n",
              "<table border=\"1\" class=\"dataframe\">\n",
              "  <thead>\n",
              "    <tr style=\"text-align: right;\">\n",
              "      <th></th>\n",
              "      <th>Year</th>\n",
              "      <th>Selling_Price</th>\n",
              "      <th>Present_Price</th>\n",
              "      <th>Kms_Driven</th>\n",
              "      <th>Fuel_Type</th>\n",
              "      <th>Seller_Type</th>\n",
              "      <th>Transmission</th>\n",
              "      <th>Owner</th>\n",
              "      <th>Bs_version</th>\n",
              "      <th>Current_year</th>\n",
              "      <th>No_years</th>\n",
              "    </tr>\n",
              "  </thead>\n",
              "  <tbody>\n",
              "    <tr>\n",
              "      <th>0</th>\n",
              "      <td>2014</td>\n",
              "      <td>3.35</td>\n",
              "      <td>5.59</td>\n",
              "      <td>27000</td>\n",
              "      <td>Petrol</td>\n",
              "      <td>Dealer</td>\n",
              "      <td>Manual</td>\n",
              "      <td>0</td>\n",
              "      <td>bs3</td>\n",
              "      <td>2022</td>\n",
              "      <td>8</td>\n",
              "    </tr>\n",
              "    <tr>\n",
              "      <th>1</th>\n",
              "      <td>2013</td>\n",
              "      <td>4.75</td>\n",
              "      <td>9.54</td>\n",
              "      <td>43000</td>\n",
              "      <td>Diesel</td>\n",
              "      <td>Dealer</td>\n",
              "      <td>Manual</td>\n",
              "      <td>0</td>\n",
              "      <td>bs3</td>\n",
              "      <td>2022</td>\n",
              "      <td>9</td>\n",
              "    </tr>\n",
              "    <tr>\n",
              "      <th>2</th>\n",
              "      <td>2017</td>\n",
              "      <td>7.25</td>\n",
              "      <td>9.85</td>\n",
              "      <td>6900</td>\n",
              "      <td>Petrol</td>\n",
              "      <td>Dealer</td>\n",
              "      <td>Manual</td>\n",
              "      <td>0</td>\n",
              "      <td>bs4</td>\n",
              "      <td>2022</td>\n",
              "      <td>5</td>\n",
              "    </tr>\n",
              "    <tr>\n",
              "      <th>3</th>\n",
              "      <td>2011</td>\n",
              "      <td>2.85</td>\n",
              "      <td>4.15</td>\n",
              "      <td>5200</td>\n",
              "      <td>Petrol</td>\n",
              "      <td>Dealer</td>\n",
              "      <td>Manual</td>\n",
              "      <td>0</td>\n",
              "      <td>bs3</td>\n",
              "      <td>2022</td>\n",
              "      <td>11</td>\n",
              "    </tr>\n",
              "    <tr>\n",
              "      <th>4</th>\n",
              "      <td>2014</td>\n",
              "      <td>4.60</td>\n",
              "      <td>6.87</td>\n",
              "      <td>42450</td>\n",
              "      <td>Diesel</td>\n",
              "      <td>Dealer</td>\n",
              "      <td>Manual</td>\n",
              "      <td>0</td>\n",
              "      <td>bs3</td>\n",
              "      <td>2022</td>\n",
              "      <td>8</td>\n",
              "    </tr>\n",
              "  </tbody>\n",
              "</table>\n",
              "</div>"
            ],
            "text/plain": [
              "   Year  Selling_Price  Present_Price  Kms_Driven Fuel_Type Seller_Type  \\\n",
              "0  2014           3.35           5.59       27000    Petrol      Dealer   \n",
              "1  2013           4.75           9.54       43000    Diesel      Dealer   \n",
              "2  2017           7.25           9.85        6900    Petrol      Dealer   \n",
              "3  2011           2.85           4.15        5200    Petrol      Dealer   \n",
              "4  2014           4.60           6.87       42450    Diesel      Dealer   \n",
              "\n",
              "  Transmission  Owner Bs_version  Current_year  No_years  \n",
              "0       Manual      0        bs3          2022         8  \n",
              "1       Manual      0        bs3          2022         9  \n",
              "2       Manual      0        bs4          2022         5  \n",
              "3       Manual      0        bs3          2022        11  \n",
              "4       Manual      0        bs3          2022         8  "
            ]
          },
          "execution_count": 115,
          "metadata": {},
          "output_type": "execute_result"
        }
      ],
      "source": [
        "final_dataset['No_years']=final_dataset['Current_year']-final_dataset['Year']\n",
        "final_dataset.head()"
      ]
    },
    {
      "cell_type": "markdown",
      "metadata": {
        "id": "uv3kVYx_EbRI"
      },
      "source": [
        "# Droping year and Current_year  column becz now it off no use"
      ]
    },
    {
      "cell_type": "code",
      "execution_count": 116,
      "metadata": {
        "colab": {
          "base_uri": "https://localhost:8080/",
          "height": 206
        },
        "id": "7tc35XO6Edmk",
        "outputId": "e11c81f3-2e59-4633-f13f-c49054bad673"
      },
      "outputs": [
        {
          "data": {
            "text/html": [
              "<div>\n",
              "<style scoped>\n",
              "    .dataframe tbody tr th:only-of-type {\n",
              "        vertical-align: middle;\n",
              "    }\n",
              "\n",
              "    .dataframe tbody tr th {\n",
              "        vertical-align: top;\n",
              "    }\n",
              "\n",
              "    .dataframe thead th {\n",
              "        text-align: right;\n",
              "    }\n",
              "</style>\n",
              "<table border=\"1\" class=\"dataframe\">\n",
              "  <thead>\n",
              "    <tr style=\"text-align: right;\">\n",
              "      <th></th>\n",
              "      <th>Selling_Price</th>\n",
              "      <th>Present_Price</th>\n",
              "      <th>Kms_Driven</th>\n",
              "      <th>Fuel_Type</th>\n",
              "      <th>Seller_Type</th>\n",
              "      <th>Transmission</th>\n",
              "      <th>Owner</th>\n",
              "      <th>Bs_version</th>\n",
              "      <th>No_years</th>\n",
              "    </tr>\n",
              "  </thead>\n",
              "  <tbody>\n",
              "    <tr>\n",
              "      <th>0</th>\n",
              "      <td>3.35</td>\n",
              "      <td>5.59</td>\n",
              "      <td>27000</td>\n",
              "      <td>Petrol</td>\n",
              "      <td>Dealer</td>\n",
              "      <td>Manual</td>\n",
              "      <td>0</td>\n",
              "      <td>bs3</td>\n",
              "      <td>8</td>\n",
              "    </tr>\n",
              "    <tr>\n",
              "      <th>1</th>\n",
              "      <td>4.75</td>\n",
              "      <td>9.54</td>\n",
              "      <td>43000</td>\n",
              "      <td>Diesel</td>\n",
              "      <td>Dealer</td>\n",
              "      <td>Manual</td>\n",
              "      <td>0</td>\n",
              "      <td>bs3</td>\n",
              "      <td>9</td>\n",
              "    </tr>\n",
              "    <tr>\n",
              "      <th>2</th>\n",
              "      <td>7.25</td>\n",
              "      <td>9.85</td>\n",
              "      <td>6900</td>\n",
              "      <td>Petrol</td>\n",
              "      <td>Dealer</td>\n",
              "      <td>Manual</td>\n",
              "      <td>0</td>\n",
              "      <td>bs4</td>\n",
              "      <td>5</td>\n",
              "    </tr>\n",
              "    <tr>\n",
              "      <th>3</th>\n",
              "      <td>2.85</td>\n",
              "      <td>4.15</td>\n",
              "      <td>5200</td>\n",
              "      <td>Petrol</td>\n",
              "      <td>Dealer</td>\n",
              "      <td>Manual</td>\n",
              "      <td>0</td>\n",
              "      <td>bs3</td>\n",
              "      <td>11</td>\n",
              "    </tr>\n",
              "    <tr>\n",
              "      <th>4</th>\n",
              "      <td>4.60</td>\n",
              "      <td>6.87</td>\n",
              "      <td>42450</td>\n",
              "      <td>Diesel</td>\n",
              "      <td>Dealer</td>\n",
              "      <td>Manual</td>\n",
              "      <td>0</td>\n",
              "      <td>bs3</td>\n",
              "      <td>8</td>\n",
              "    </tr>\n",
              "  </tbody>\n",
              "</table>\n",
              "</div>"
            ],
            "text/plain": [
              "   Selling_Price  Present_Price  Kms_Driven Fuel_Type Seller_Type  \\\n",
              "0           3.35           5.59       27000    Petrol      Dealer   \n",
              "1           4.75           9.54       43000    Diesel      Dealer   \n",
              "2           7.25           9.85        6900    Petrol      Dealer   \n",
              "3           2.85           4.15        5200    Petrol      Dealer   \n",
              "4           4.60           6.87       42450    Diesel      Dealer   \n",
              "\n",
              "  Transmission  Owner Bs_version  No_years  \n",
              "0       Manual      0        bs3         8  \n",
              "1       Manual      0        bs3         9  \n",
              "2       Manual      0        bs4         5  \n",
              "3       Manual      0        bs3        11  \n",
              "4       Manual      0        bs3         8  "
            ]
          },
          "execution_count": 116,
          "metadata": {},
          "output_type": "execute_result"
        }
      ],
      "source": [
        "final_dataset.drop(['Year','Current_year'],axis=1,inplace=True)\n",
        "final_dataset.head()"
      ]
    },
    {
      "cell_type": "code",
      "execution_count": 117,
      "metadata": {
        "id": "XGStUmEVxr8u"
      },
      "outputs": [],
      "source": [
        "# encoding \"Fuel_Type\" Column\n",
        "final_dataset.replace({'Fuel_Type':{'Petrol':0,'Diesel':1,'CNG':2}},inplace=True)\n",
        "\n",
        "# encoding \"Seller_Type\" Column\n",
        "final_dataset.replace({'Seller_Type':{'Dealer':0,'Individual':1}},inplace=True)\n",
        "\n",
        "# encoding \"Transmission\" Column\n",
        "final_dataset.replace({'Transmission':{'Manual':0,'Automatic':1}},inplace=True)\n",
        "\n",
        "# encoding \"Bs_version\" Column\n",
        "final_dataset.replace({'Bs_version':{'bs3':0,'bs4':1}},inplace=True)"
      ]
    },
    {
      "cell_type": "code",
      "execution_count": 118,
      "metadata": {
        "colab": {
          "base_uri": "https://localhost:8080/",
          "height": 206
        },
        "id": "aM9TlBVTyF90",
        "outputId": "3f9062da-24da-4957-8667-aa662dfd7d12"
      },
      "outputs": [
        {
          "data": {
            "text/html": [
              "<div>\n",
              "<style scoped>\n",
              "    .dataframe tbody tr th:only-of-type {\n",
              "        vertical-align: middle;\n",
              "    }\n",
              "\n",
              "    .dataframe tbody tr th {\n",
              "        vertical-align: top;\n",
              "    }\n",
              "\n",
              "    .dataframe thead th {\n",
              "        text-align: right;\n",
              "    }\n",
              "</style>\n",
              "<table border=\"1\" class=\"dataframe\">\n",
              "  <thead>\n",
              "    <tr style=\"text-align: right;\">\n",
              "      <th></th>\n",
              "      <th>Selling_Price</th>\n",
              "      <th>Present_Price</th>\n",
              "      <th>Kms_Driven</th>\n",
              "      <th>Fuel_Type</th>\n",
              "      <th>Seller_Type</th>\n",
              "      <th>Transmission</th>\n",
              "      <th>Owner</th>\n",
              "      <th>Bs_version</th>\n",
              "      <th>No_years</th>\n",
              "    </tr>\n",
              "  </thead>\n",
              "  <tbody>\n",
              "    <tr>\n",
              "      <th>0</th>\n",
              "      <td>3.35</td>\n",
              "      <td>5.59</td>\n",
              "      <td>27000</td>\n",
              "      <td>0</td>\n",
              "      <td>0</td>\n",
              "      <td>0</td>\n",
              "      <td>0</td>\n",
              "      <td>0</td>\n",
              "      <td>8</td>\n",
              "    </tr>\n",
              "    <tr>\n",
              "      <th>1</th>\n",
              "      <td>4.75</td>\n",
              "      <td>9.54</td>\n",
              "      <td>43000</td>\n",
              "      <td>1</td>\n",
              "      <td>0</td>\n",
              "      <td>0</td>\n",
              "      <td>0</td>\n",
              "      <td>0</td>\n",
              "      <td>9</td>\n",
              "    </tr>\n",
              "    <tr>\n",
              "      <th>2</th>\n",
              "      <td>7.25</td>\n",
              "      <td>9.85</td>\n",
              "      <td>6900</td>\n",
              "      <td>0</td>\n",
              "      <td>0</td>\n",
              "      <td>0</td>\n",
              "      <td>0</td>\n",
              "      <td>1</td>\n",
              "      <td>5</td>\n",
              "    </tr>\n",
              "    <tr>\n",
              "      <th>3</th>\n",
              "      <td>2.85</td>\n",
              "      <td>4.15</td>\n",
              "      <td>5200</td>\n",
              "      <td>0</td>\n",
              "      <td>0</td>\n",
              "      <td>0</td>\n",
              "      <td>0</td>\n",
              "      <td>0</td>\n",
              "      <td>11</td>\n",
              "    </tr>\n",
              "    <tr>\n",
              "      <th>4</th>\n",
              "      <td>4.60</td>\n",
              "      <td>6.87</td>\n",
              "      <td>42450</td>\n",
              "      <td>1</td>\n",
              "      <td>0</td>\n",
              "      <td>0</td>\n",
              "      <td>0</td>\n",
              "      <td>0</td>\n",
              "      <td>8</td>\n",
              "    </tr>\n",
              "  </tbody>\n",
              "</table>\n",
              "</div>"
            ],
            "text/plain": [
              "   Selling_Price  Present_Price  Kms_Driven  Fuel_Type  Seller_Type  \\\n",
              "0           3.35           5.59       27000          0            0   \n",
              "1           4.75           9.54       43000          1            0   \n",
              "2           7.25           9.85        6900          0            0   \n",
              "3           2.85           4.15        5200          0            0   \n",
              "4           4.60           6.87       42450          1            0   \n",
              "\n",
              "   Transmission  Owner  Bs_version  No_years  \n",
              "0             0      0           0         8  \n",
              "1             0      0           0         9  \n",
              "2             0      0           1         5  \n",
              "3             0      0           0        11  \n",
              "4             0      0           0         8  "
            ]
          },
          "execution_count": 118,
          "metadata": {},
          "output_type": "execute_result"
        }
      ],
      "source": [
        "#printing new dataset in machine readable language\n",
        "final_dataset.head()"
      ]
    },
    {
      "cell_type": "markdown",
      "metadata": {
        "id": "cPk9p_TQE388"
      },
      "source": [
        "## Correlation"
      ]
    },
    {
      "cell_type": "code",
      "execution_count": 119,
      "metadata": {
        "colab": {
          "base_uri": "https://localhost:8080/",
          "height": 332
        },
        "id": "1-iLQSXVE6SK",
        "outputId": "665f5d79-8100-4b60-b9d3-d63f43ec45ef"
      },
      "outputs": [
        {
          "data": {
            "text/html": [
              "<div>\n",
              "<style scoped>\n",
              "    .dataframe tbody tr th:only-of-type {\n",
              "        vertical-align: middle;\n",
              "    }\n",
              "\n",
              "    .dataframe tbody tr th {\n",
              "        vertical-align: top;\n",
              "    }\n",
              "\n",
              "    .dataframe thead th {\n",
              "        text-align: right;\n",
              "    }\n",
              "</style>\n",
              "<table border=\"1\" class=\"dataframe\">\n",
              "  <thead>\n",
              "    <tr style=\"text-align: right;\">\n",
              "      <th></th>\n",
              "      <th>Selling_Price</th>\n",
              "      <th>Present_Price</th>\n",
              "      <th>Kms_Driven</th>\n",
              "      <th>Fuel_Type</th>\n",
              "      <th>Seller_Type</th>\n",
              "      <th>Transmission</th>\n",
              "      <th>Owner</th>\n",
              "      <th>Bs_version</th>\n",
              "      <th>No_years</th>\n",
              "    </tr>\n",
              "  </thead>\n",
              "  <tbody>\n",
              "    <tr>\n",
              "      <th>Selling_Price</th>\n",
              "      <td>1.000000</td>\n",
              "      <td>0.878847</td>\n",
              "      <td>0.036125</td>\n",
              "      <td>0.508875</td>\n",
              "      <td>-0.549228</td>\n",
              "      <td>0.366554</td>\n",
              "      <td>-0.088950</td>\n",
              "      <td>0.117688</td>\n",
              "      <td>-0.231271</td>\n",
              "    </tr>\n",
              "    <tr>\n",
              "      <th>Present_Price</th>\n",
              "      <td>0.878847</td>\n",
              "      <td>1.000000</td>\n",
              "      <td>0.210469</td>\n",
              "      <td>0.439847</td>\n",
              "      <td>-0.511124</td>\n",
              "      <td>0.348218</td>\n",
              "      <td>0.007702</td>\n",
              "      <td>-0.023911</td>\n",
              "      <td>0.056517</td>\n",
              "    </tr>\n",
              "    <tr>\n",
              "      <th>Kms_Driven</th>\n",
              "      <td>0.036125</td>\n",
              "      <td>0.210469</td>\n",
              "      <td>1.000000</td>\n",
              "      <td>0.172291</td>\n",
              "      <td>-0.113271</td>\n",
              "      <td>0.167084</td>\n",
              "      <td>0.091393</td>\n",
              "      <td>-0.253543</td>\n",
              "      <td>0.512085</td>\n",
              "    </tr>\n",
              "    <tr>\n",
              "      <th>Fuel_Type</th>\n",
              "      <td>0.508875</td>\n",
              "      <td>0.439847</td>\n",
              "      <td>0.172291</td>\n",
              "      <td>1.000000</td>\n",
              "      <td>-0.351379</td>\n",
              "      <td>0.079867</td>\n",
              "      <td>-0.056023</td>\n",
              "      <td>-0.064589</td>\n",
              "      <td>-0.048636</td>\n",
              "    </tr>\n",
              "    <tr>\n",
              "      <th>Seller_Type</th>\n",
              "      <td>-0.549228</td>\n",
              "      <td>-0.511124</td>\n",
              "      <td>-0.113271</td>\n",
              "      <td>-0.351379</td>\n",
              "      <td>1.000000</td>\n",
              "      <td>-0.061676</td>\n",
              "      <td>0.125449</td>\n",
              "      <td>0.094626</td>\n",
              "      <td>0.023868</td>\n",
              "    </tr>\n",
              "    <tr>\n",
              "      <th>Transmission</th>\n",
              "      <td>0.366554</td>\n",
              "      <td>0.348218</td>\n",
              "      <td>0.167084</td>\n",
              "      <td>0.079867</td>\n",
              "      <td>-0.061676</td>\n",
              "      <td>1.000000</td>\n",
              "      <td>0.050103</td>\n",
              "      <td>0.096561</td>\n",
              "      <td>0.005321</td>\n",
              "    </tr>\n",
              "    <tr>\n",
              "      <th>Owner</th>\n",
              "      <td>-0.088950</td>\n",
              "      <td>0.007702</td>\n",
              "      <td>0.091393</td>\n",
              "      <td>-0.056023</td>\n",
              "      <td>0.125449</td>\n",
              "      <td>0.050103</td>\n",
              "      <td>1.000000</td>\n",
              "      <td>-0.064549</td>\n",
              "      <td>0.188563</td>\n",
              "    </tr>\n",
              "    <tr>\n",
              "      <th>Bs_version</th>\n",
              "      <td>0.117688</td>\n",
              "      <td>-0.023911</td>\n",
              "      <td>-0.253543</td>\n",
              "      <td>-0.064589</td>\n",
              "      <td>0.094626</td>\n",
              "      <td>0.096561</td>\n",
              "      <td>-0.064549</td>\n",
              "      <td>1.000000</td>\n",
              "      <td>-0.439715</td>\n",
              "    </tr>\n",
              "    <tr>\n",
              "      <th>No_years</th>\n",
              "      <td>-0.231271</td>\n",
              "      <td>0.056517</td>\n",
              "      <td>0.512085</td>\n",
              "      <td>-0.048636</td>\n",
              "      <td>0.023868</td>\n",
              "      <td>0.005321</td>\n",
              "      <td>0.188563</td>\n",
              "      <td>-0.439715</td>\n",
              "      <td>1.000000</td>\n",
              "    </tr>\n",
              "  </tbody>\n",
              "</table>\n",
              "</div>"
            ],
            "text/plain": [
              "               Selling_Price  Present_Price  Kms_Driven  Fuel_Type  \\\n",
              "Selling_Price       1.000000       0.878847    0.036125   0.508875   \n",
              "Present_Price       0.878847       1.000000    0.210469   0.439847   \n",
              "Kms_Driven          0.036125       0.210469    1.000000   0.172291   \n",
              "Fuel_Type           0.508875       0.439847    0.172291   1.000000   \n",
              "Seller_Type        -0.549228      -0.511124   -0.113271  -0.351379   \n",
              "Transmission        0.366554       0.348218    0.167084   0.079867   \n",
              "Owner              -0.088950       0.007702    0.091393  -0.056023   \n",
              "Bs_version          0.117688      -0.023911   -0.253543  -0.064589   \n",
              "No_years           -0.231271       0.056517    0.512085  -0.048636   \n",
              "\n",
              "               Seller_Type  Transmission     Owner  Bs_version  No_years  \n",
              "Selling_Price    -0.549228      0.366554 -0.088950    0.117688 -0.231271  \n",
              "Present_Price    -0.511124      0.348218  0.007702   -0.023911  0.056517  \n",
              "Kms_Driven       -0.113271      0.167084  0.091393   -0.253543  0.512085  \n",
              "Fuel_Type        -0.351379      0.079867 -0.056023   -0.064589 -0.048636  \n",
              "Seller_Type       1.000000     -0.061676  0.125449    0.094626  0.023868  \n",
              "Transmission     -0.061676      1.000000  0.050103    0.096561  0.005321  \n",
              "Owner             0.125449      0.050103  1.000000   -0.064549  0.188563  \n",
              "Bs_version        0.094626      0.096561 -0.064549    1.000000 -0.439715  \n",
              "No_years          0.023868      0.005321  0.188563   -0.439715  1.000000  "
            ]
          },
          "execution_count": 119,
          "metadata": {},
          "output_type": "execute_result"
        }
      ],
      "source": [
        "final_dataset.corr()"
      ]
    },
    {
      "cell_type": "code",
      "execution_count": 120,
      "metadata": {
        "colab": {
          "base_uri": "https://localhost:8080/",
          "height": 670
        },
        "id": "F9_8v78JFE3z",
        "outputId": "93222a63-c3c9-431f-83ae-810d462a8853"
      },
      "outputs": [
        {
          "data": {
            "text/plain": [
              "<AxesSubplot:>"
            ]
          },
          "execution_count": 120,
          "metadata": {},
          "output_type": "execute_result"
        },
        {
          "data": {
            "image/png": "[encoded data removed]",
            "text/plain": [
              "<Figure size 720x720 with 2 Axes>"
            ]
          },
          "metadata": {
            "needs_background": "light"
          },
          "output_type": "display_data"
        }
      ],
      "source": [
        "plt.figure(figsize=(10,10))\n",
        "sns.heatmap(final_dataset.corr(),annot=True)"
      ]
    },
    {
      "cell_type": "code",
      "execution_count": 121,
      "metadata": {
        "colab": {
          "base_uri": "https://localhost:8080/",
          "height": 1000
        },
        "id": "3DUG_NdCFvEh",
        "outputId": "349141c5-3217-4586-9c9e-6b38f2d374f8"
      },
      "outputs": [
        {
          "data": {
            "text/plain": [
              "<seaborn.axisgrid.PairGrid at 0x7fb87e4a5370>"
            ]
          },
          "execution_count": 121,
          "metadata": {},
          "output_type": "execute_result"
        },
        {
          "data": {
            "image/png": "[encoded data removed]",
            "text/plain": [
              "<Figure size 1620x1620 with 90 Axes>"
            ]
          },
          "metadata": {
            "needs_background": "light"
          },
          "output_type": "display_data"
        }
      ],
      "source": [
        "sns.pairplot(final_dataset)"
      ]
    },
    {
      "cell_type": "code",
      "execution_count": 122,
      "metadata": {
        "colab": {
          "base_uri": "https://localhost:8080/",
          "height": 285
        },
        "id": "-BROWwvwGFB3",
        "outputId": "c4132f72-b1c9-4d50-e5ea-2b86ec9bef90"
      },
      "outputs": [
        {
          "data": {
            "text/plain": [
              "<AxesSubplot:>"
            ]
          },
          "execution_count": 122,
          "metadata": {},
          "output_type": "execute_result"
        },
        {
          "data": {
            "image/png": "[encoded data removed]",
            "text/plain": [
              "<Figure size 432x288 with 1 Axes>"
            ]
          },
          "metadata": {
            "needs_background": "light"
          },
          "output_type": "display_data"
        }
      ],
      "source": [
        "final_dataset['Selling_Price'].hist(bins=30)"
      ]
    },
    {
      "cell_type": "markdown",
      "metadata": {
        "id": "ny7rZKnnx_l4"
      },
      "source": [
        "#Divide x and y"
      ]
    },
    {
      "cell_type": "code",
      "execution_count": 123,
      "metadata": {
        "id": "MW2R3n-_yC50"
      },
      "outputs": [],
      "source": [
        "X = final_dataset.drop(['Selling_Price'],axis=1)\n",
        "Y = final_dataset['Selling_Price']"
      ]
    },
    {
      "cell_type": "code",
      "execution_count": 124,
      "metadata": {
        "colab": {
          "base_uri": "https://localhost:8080/",
          "height": 424
        },
        "id": "IMLQbSMLzxml",
        "outputId": "ad90354b-006a-479e-e0d2-e027221c1c10"
      },
      "outputs": [
        {
          "data": {
            "text/html": [
              "<div>\n",
              "<style scoped>\n",
              "    .dataframe tbody tr th:only-of-type {\n",
              "        vertical-align: middle;\n",
              "    }\n",
              "\n",
              "    .dataframe tbody tr th {\n",
              "        vertical-align: top;\n",
              "    }\n",
              "\n",
              "    .dataframe thead th {\n",
              "        text-align: right;\n",
              "    }\n",
              "</style>\n",
              "<table border=\"1\" class=\"dataframe\">\n",
              "  <thead>\n",
              "    <tr style=\"text-align: right;\">\n",
              "      <th></th>\n",
              "      <th>Present_Price</th>\n",
              "      <th>Kms_Driven</th>\n",
              "      <th>Fuel_Type</th>\n",
              "      <th>Seller_Type</th>\n",
              "      <th>Transmission</th>\n",
              "      <th>Owner</th>\n",
              "      <th>Bs_version</th>\n",
              "      <th>No_years</th>\n",
              "    </tr>\n",
              "  </thead>\n",
              "  <tbody>\n",
              "    <tr>\n",
              "      <th>0</th>\n",
              "      <td>5.59</td>\n",
              "      <td>27000</td>\n",
              "      <td>0</td>\n",
              "      <td>0</td>\n",
              "      <td>0</td>\n",
              "      <td>0</td>\n",
              "      <td>0</td>\n",
              "      <td>8</td>\n",
              "    </tr>\n",
              "    <tr>\n",
              "      <th>1</th>\n",
              "      <td>9.54</td>\n",
              "      <td>43000</td>\n",
              "      <td>1</td>\n",
              "      <td>0</td>\n",
              "      <td>0</td>\n",
              "      <td>0</td>\n",
              "      <td>0</td>\n",
              "      <td>9</td>\n",
              "    </tr>\n",
              "    <tr>\n",
              "      <th>2</th>\n",
              "      <td>9.85</td>\n",
              "      <td>6900</td>\n",
              "      <td>0</td>\n",
              "      <td>0</td>\n",
              "      <td>0</td>\n",
              "      <td>0</td>\n",
              "      <td>1</td>\n",
              "      <td>5</td>\n",
              "    </tr>\n",
              "    <tr>\n",
              "      <th>3</th>\n",
              "      <td>4.15</td>\n",
              "      <td>5200</td>\n",
              "      <td>0</td>\n",
              "      <td>0</td>\n",
              "      <td>0</td>\n",
              "      <td>0</td>\n",
              "      <td>0</td>\n",
              "      <td>11</td>\n",
              "    </tr>\n",
              "    <tr>\n",
              "      <th>4</th>\n",
              "      <td>6.87</td>\n",
              "      <td>42450</td>\n",
              "      <td>1</td>\n",
              "      <td>0</td>\n",
              "      <td>0</td>\n",
              "      <td>0</td>\n",
              "      <td>0</td>\n",
              "      <td>8</td>\n",
              "    </tr>\n",
              "    <tr>\n",
              "      <th>...</th>\n",
              "      <td>...</td>\n",
              "      <td>...</td>\n",
              "      <td>...</td>\n",
              "      <td>...</td>\n",
              "      <td>...</td>\n",
              "      <td>...</td>\n",
              "      <td>...</td>\n",
              "      <td>...</td>\n",
              "    </tr>\n",
              "    <tr>\n",
              "      <th>296</th>\n",
              "      <td>11.60</td>\n",
              "      <td>33988</td>\n",
              "      <td>1</td>\n",
              "      <td>0</td>\n",
              "      <td>0</td>\n",
              "      <td>0</td>\n",
              "      <td>0</td>\n",
              "      <td>6</td>\n",
              "    </tr>\n",
              "    <tr>\n",
              "      <th>297</th>\n",
              "      <td>5.90</td>\n",
              "      <td>60000</td>\n",
              "      <td>0</td>\n",
              "      <td>0</td>\n",
              "      <td>0</td>\n",
              "      <td>0</td>\n",
              "      <td>0</td>\n",
              "      <td>7</td>\n",
              "    </tr>\n",
              "    <tr>\n",
              "      <th>298</th>\n",
              "      <td>11.00</td>\n",
              "      <td>87934</td>\n",
              "      <td>0</td>\n",
              "      <td>0</td>\n",
              "      <td>0</td>\n",
              "      <td>0</td>\n",
              "      <td>0</td>\n",
              "      <td>13</td>\n",
              "    </tr>\n",
              "    <tr>\n",
              "      <th>299</th>\n",
              "      <td>12.50</td>\n",
              "      <td>9000</td>\n",
              "      <td>1</td>\n",
              "      <td>0</td>\n",
              "      <td>0</td>\n",
              "      <td>0</td>\n",
              "      <td>1</td>\n",
              "      <td>5</td>\n",
              "    </tr>\n",
              "    <tr>\n",
              "      <th>300</th>\n",
              "      <td>5.90</td>\n",
              "      <td>5464</td>\n",
              "      <td>0</td>\n",
              "      <td>0</td>\n",
              "      <td>0</td>\n",
              "      <td>0</td>\n",
              "      <td>0</td>\n",
              "      <td>6</td>\n",
              "    </tr>\n",
              "  </tbody>\n",
              "</table>\n",
              "<p>300 rows × 8 columns</p>\n",
              "</div>"
            ],
            "text/plain": [
              "     Present_Price  Kms_Driven  Fuel_Type  Seller_Type  Transmission  Owner  \\\n",
              "0             5.59       27000          0            0             0      0   \n",
              "1             9.54       43000          1            0             0      0   \n",
              "2             9.85        6900          0            0             0      0   \n",
              "3             4.15        5200          0            0             0      0   \n",
              "4             6.87       42450          1            0             0      0   \n",
              "..             ...         ...        ...          ...           ...    ...   \n",
              "296          11.60       33988          1            0             0      0   \n",
              "297           5.90       60000          0            0             0      0   \n",
              "298          11.00       87934          0            0             0      0   \n",
              "299          12.50        9000          1            0             0      0   \n",
              "300           5.90        5464          0            0             0      0   \n",
              "\n",
              "     Bs_version  No_years  \n",
              "0             0         8  \n",
              "1             0         9  \n",
              "2             1         5  \n",
              "3             0        11  \n",
              "4             0         8  \n",
              "..          ...       ...  \n",
              "296           0         6  \n",
              "297           0         7  \n",
              "298           0        13  \n",
              "299           1         5  \n",
              "300           0         6  \n",
              "\n",
              "[300 rows x 8 columns]"
            ]
          },
          "execution_count": 124,
          "metadata": {},
          "output_type": "execute_result"
        }
      ],
      "source": [
        "X"
      ]
    },
    {
      "cell_type": "code",
      "execution_count": 125,
      "metadata": {
        "colab": {
          "base_uri": "https://localhost:8080/"
        },
        "id": "-kFinuLez44L",
        "outputId": "35ae96fc-739f-4154-d29f-d178cde0d088"
      },
      "outputs": [
        {
          "data": {
            "text/plain": [
              "0       3.35\n",
              "1       4.75\n",
              "2       7.25\n",
              "3       2.85\n",
              "4       4.60\n",
              "       ...  \n",
              "296     9.50\n",
              "297     4.00\n",
              "298     3.35\n",
              "299    11.50\n",
              "300     5.30\n",
              "Name: Selling_Price, Length: 300, dtype: float64"
            ]
          },
          "execution_count": 125,
          "metadata": {},
          "output_type": "execute_result"
        }
      ],
      "source": [
        "Y"
      ]
    },
    {
      "cell_type": "code",
      "execution_count": 126,
      "metadata": {
        "id": "L8LDjZKU0q6B"
      },
      "outputs": [],
      "source": [
        "X_train, X_test, Y_train, Y_test = train_test_split(X, Y, test_size = 0.2, random_state=2)"
      ]
    },
    {
      "cell_type": "markdown",
      "metadata": {
        "id": "-Z5qZL9c16Cv"
      },
      "source": [
        "#Show the important attributes in descending order"
      ]
    },
    {
      "cell_type": "code",
      "execution_count": 127,
      "metadata": {
        "colab": {
          "base_uri": "https://localhost:8080/"
        },
        "id": "iOlLUHqa17Tc",
        "outputId": "144c791b-5f56-40c9-c4fe-0e5b0bf31cfa"
      },
      "outputs": [
        {
          "name": "stdout",
          "output_type": "stream",
          "text": [
            "        Features      Scores\n",
            "0  Present_Price  943.638710\n",
            "2      Fuel_Type  102.155403\n",
            "3    Seller_Type   95.370550\n",
            "4   Transmission   41.408074\n",
            "7       No_years   13.122791\n",
            "5          Owner    3.542783\n",
            "6     Bs_version    2.577471\n",
            "1     Kms_Driven    0.239744\n"
          ]
        }
      ],
      "source": [
        "best_features = SelectKBest(score_func=f_regression, k='all')\n",
        "top_features = best_features.fit(X_train,Y_train)\n",
        "scores = pd.DataFrame(top_features.scores_)\n",
        "columns = pd.DataFrame(X_train.columns)\n",
        "featureScores = pd.concat([columns, scores], axis=1)\n",
        "featureScores.columns = ['Features','Scores']\n",
        "print(featureScores.nlargest(8, 'Scores'))"
      ]
    },
    {
      "cell_type": "markdown",
      "metadata": {
        "id": "wY-nrjP25042"
      },
      "source": [
        "#Plot graph of feature importances for better visualization"
      ]
    },
    {
      "cell_type": "code",
      "execution_count": 128,
      "metadata": {
        "colab": {
          "base_uri": "https://localhost:8080/",
          "height": 265
        },
        "id": "2SdeJiq35YSE",
        "outputId": "b582a3b5-da57-4234-ffbb-b275cb45b21b"
      },
      "outputs": [
        {
          "data": {
            "image/png": "[encoded data removed]",
            "text/plain": [
              "<Figure size 432x288 with 1 Axes>"
            ]
          },
          "metadata": {
            "needs_background": "light"
          },
          "output_type": "display_data"
        }
      ],
      "source": [
        "featureScores.nlargest(8,'Scores').plot(kind='barh')\n",
        "plt.show()"
      ]
    },
    {
      "cell_type": "markdown",
      "metadata": {
        "id": "Vb_FfwNv3sKK"
      },
      "source": [
        "####Create function to displaying scores"
      ]
    },
    {
      "cell_type": "code",
      "execution_count": 129,
      "metadata": {
        "id": "X1yW66w130ex"
      },
      "outputs": [],
      "source": [
        "def display_scores(scores):\n",
        "    print(\"Scores: \", scores)\n",
        "    print(\"Mean: \", scores.mean())\n",
        "    print(\"Standard Deviation: \", scores.std())"
      ]
    },
    {
      "cell_type": "markdown",
      "metadata": {
        "id": "Q8gGTRJY36uC"
      },
      "source": [
        "#1.Training the Random Forest Regressor"
      ]
    },
    {
      "cell_type": "code",
      "execution_count": 130,
      "metadata": {
        "colab": {
          "base_uri": "https://localhost:8080/"
        },
        "id": "a0ZZJ-_o39_H",
        "outputId": "a0e09f37-d4af-4fef-ff91-4b0b4c21b947"
      },
      "outputs": [
        {
          "name": "stdout",
          "output_type": "stream",
          "text": [
            "Random Forest Regressor Scores\n",
            "Scores:  [2.38183048 1.57313296 2.02367926 0.95724331 1.20912833]\n",
            "Mean:  1.629002868395856\n",
            "Standard Deviation:  0.520229918289089\n",
            "\n",
            "\n"
          ]
        }
      ],
      "source": [
        "print(\"Random Forest Regressor Scores\")\n",
        "scores = cross_val_score(rr, X_train, Y_train, scoring='neg_mean_squared_error', cv=5)\n",
        "random_forest_scores = np.sqrt(-scores)\n",
        "display_scores(random_forest_scores)\n",
        "print(\"\\n\")"
      ]
    },
    {
      "cell_type": "markdown",
      "metadata": {
        "id": "vk7EAOO06Wh_"
      },
      "source": [
        "#2.Training the Gradient Boosting Regressor"
      ]
    },
    {
      "cell_type": "code",
      "execution_count": 156,
      "metadata": {
        "colab": {
          "base_uri": "https://localhost:8080/"
        },
        "id": "bP92Sc_U5XdG",
        "outputId": "a2ddd529-2f16-46bc-ae03-bba567a411bb"
      },
      "outputs": [
        {
          "name": "stdout",
          "output_type": "stream",
          "text": [
            "Gradient Boosting Regressor Scores\n",
            "Scores:  [2.54100228 1.10162348 1.81280957 0.77745437 1.27447753]\n",
            "Mean:  1.5014734436043171\n",
            "Standard Deviation:  0.6185727360635986\n",
            "\n",
            "\n"
          ]
        }
      ],
      "source": [
        "print('Gradient Boosting Regressor Scores')\n",
        "scores = cross_val_score(gbr, X_train, Y_train, scoring='neg_mean_squared_error', cv=5)\n",
        "gradient_boosting_regressor = np.sqrt(-scores)\n",
        "display_scores(gradient_boosting_regressor)\n",
        "print(\"\\n\")"
      ]
    },
    {
      "cell_type": "markdown",
      "metadata": {
        "id": "ynTnCEOu6oaB"
      },
      "source": [
        "#3.Training the Linear Regression\n"
      ]
    },
    {
      "cell_type": "code",
      "execution_count": 132,
      "metadata": {
        "colab": {
          "base_uri": "https://localhost:8080/"
        },
        "id": "ZJHwGjnM6rYo",
        "outputId": "61624624-f0e5-4bb6-f58c-8bbeaa1781aa"
      },
      "outputs": [
        {
          "name": "stdout",
          "output_type": "stream",
          "text": [
            "Linear Regression Scores\n",
            "Scores:  [2.76585739 1.82436854 2.31677308 1.58011901 2.07951119]\n",
            "Mean:  2.113325842742346\n",
            "Standard Deviation:  0.4089345854476109\n",
            "\n",
            "\n"
          ]
        }
      ],
      "source": [
        "print('Linear Regression Scores')\n",
        "scores = cross_val_score(lr, X_train, Y_train, scoring='neg_mean_squared_error', cv=5)\n",
        "linear_regression = np.sqrt(-scores)\n",
        "display_scores(linear_regression)\n",
        "print(\"\\n\")"
      ]
    },
    {
      "cell_type": "markdown",
      "metadata": {
        "id": "Z5wmYfJv6x7a"
      },
      "source": [
        "#4.Training the Extreme Gradient Boosting"
      ]
    },
    {
      "cell_type": "code",
      "execution_count": 157,
      "metadata": {
        "colab": {
          "base_uri": "https://localhost:8080/"
        },
        "id": "gG8V2sjw6z48",
        "outputId": "9cec5104-0655-4f57-9170-6d34f05c0fb6"
      },
      "outputs": [
        {
          "name": "stdout",
          "output_type": "stream",
          "text": [
            "xGB Scores\n",
            "Scores:  [2.22282172 1.25247825 1.89708487 0.85713663 1.20831444]\n",
            "Mean:  1.487567183221554\n",
            "Standard Deviation:  0.49779424472135525\n",
            "\n",
            "\n"
          ]
        }
      ],
      "source": [
        "print(\"xGB Scores\")\n",
        "scores = cross_val_score(xgb, X_train, Y_train, scoring='neg_mean_squared_error', cv=5)\n",
        "xgb_regressor = np.sqrt(-scores)\n",
        "display_scores(xgb_regressor)\n",
        "print(\"\\n\")"
      ]
    },
    {
      "cell_type": "markdown",
      "metadata": {
        "id": "qtnJcwTRFItI"
      },
      "source": [
        "#From our training model, Extreme Gradient Boosting has the best performance with the lower mean error. With this, we will used them for the prediction."
      ]
    },
    {
      "cell_type": "code",
      "execution_count": 158,
      "metadata": {
        "colab": {
          "base_uri": "https://localhost:8080/"
        },
        "id": "jB3bg9DvFOqu",
        "outputId": "2e03a910-50ca-4b99-bb0e-fafd6bc3c61a"
      },
      "outputs": [
        {
          "name": "stdout",
          "output_type": "stream",
          "text": [
            "RMSE: 0.946699\n"
          ]
        }
      ],
      "source": [
        "xg_reg = XGBRegressor(objective ='reg:squarederror', colsample_bytree = 1, learning_rate = 0.15,\n",
        "                max_depth = 5,n_estimators = 10)\n",
        "xg_reg.fit(X_train.values,Y_train.values)\n",
        "\n",
        "predictions= xg_reg.predict(X_test.values)\n",
        "rmse = np.sqrt(mean_squared_error(Y_test,predictions))\n",
        "print(\"RMSE: %f\" % (rmse))"
      ]
    },
    {
      "cell_type": "code",
      "execution_count": 135,
      "metadata": {
        "colab": {
          "base_uri": "https://localhost:8080/",
          "height": 297
        },
        "id": "0gufflYiHnq8",
        "outputId": "1261a4f6-ca61-444b-e822-c07730d2a0fc"
      },
      "outputs": [
        {
          "data": {
            "text/plain": [
              "<AxesSubplot:xlabel='Selling_Price', ylabel='Density'>"
            ]
          },
          "execution_count": 135,
          "metadata": {},
          "output_type": "execute_result"
        },
        {
          "data": {
            "image/png": "[encoded data removed]",
            "text/plain": [
              "<Figure size 432x288 with 1 Axes>"
            ]
          },
          "metadata": {
            "needs_background": "light"
          },
          "output_type": "display_data"
        }
      ],
      "source": [
        "sns.distplot(Y_test-predictions)"
      ]
    },
    {
      "cell_type": "code",
      "execution_count": 136,
      "metadata": {
        "colab": {
          "base_uri": "https://localhost:8080/",
          "height": 282
        },
        "id": "JVRcRbxBH3hK",
        "outputId": "b854523b-f2fb-40e7-8849-0384dfbaddc2"
      },
      "outputs": [
        {
          "data": {
            "text/plain": [
              "<matplotlib.collections.PathCollection at 0x7fb875f2fe50>"
            ]
          },
          "execution_count": 136,
          "metadata": {},
          "output_type": "execute_result"
        },
        {
          "data": {
            "image/png": "[encoded data removed]",
            "text/plain": [
              "<Figure size 432x288 with 1 Axes>"
            ]
          },
          "metadata": {
            "needs_background": "light"
          },
          "output_type": "display_data"
        }
      ],
      "source": [
        "plt.scatter(Y_test,predictions)"
      ]
    },
    {
      "cell_type": "code",
      "execution_count": 159,
      "metadata": {
        "colab": {
          "base_uri": "https://localhost:8080/"
        },
        "id": "GzKPrN9TGz5c",
        "outputId": "ccdb9198-9aad-49e6-e544-c76be3c03a37"
      },
      "outputs": [
        {
          "name": "stdout",
          "output_type": "stream",
          "text": [
            "Accuracy: 92.61998304967463\n",
            "Mean Absolute Error: 0.62\n",
            "Mean Squared Error: 0.9\n",
            "Root Mean Squared Error: 0.95\n"
          ]
        }
      ],
      "source": [
        "print('Accuracy:',r2_score(Y_test,predictions)*100)\n",
        "print('Mean Absolute Error:', round(mean_absolute_error(Y_test, predictions),2))\n",
        "print('Mean Squared Error:', round(mean_squared_error(Y_test, predictions),2))\n",
        "print('Root Mean Squared Error:', round(np.sqrt(mean_squared_error(Y_test, predictions)),2))"
      ]
    },
    {
      "cell_type": "markdown",
      "metadata": {},
      "source": [
        "As Accuracy is 92 % which is acceptable"
      ]
    },
    {
      "cell_type": "code",
      "execution_count": 138,
      "metadata": {
        "colab": {
          "base_uri": "https://localhost:8080/"
        },
        "id": "5BHfyR5tGqMJ",
        "outputId": "6f8307d2-afb8-4359-8125-e934f0d55e88"
      },
      "outputs": [
        {
          "data": {
            "text/plain": [
              "array([ 8.136272  ,  8.184364  ,  0.3669785 ,  7.839867  ,  5.7700453 ,\n",
              "        2.4225588 ,  5.403127  ,  4.483092  ,  6.1888256 ,  3.1156504 ,\n",
              "        5.465679  ,  0.63066554,  3.2615864 ,  3.7631516 ,  0.99791193,\n",
              "        2.8785853 ,  1.293463  ,  0.5585141 ,  0.4623213 ,  4.57476   ,\n",
              "        2.7935207 ,  2.1231403 ,  0.3492197 ,  0.4856887 ,  2.42352   ,\n",
              "        3.2483592 ,  2.3699224 ,  0.4623213 ,  6.1888256 ,  7.205902  ,\n",
              "        0.63066554,  2.1143448 ,  5.7700453 ,  0.5344728 ,  0.4121384 ,\n",
              "        0.4623213 ,  3.2615864 ,  3.7631516 ,  4.048271  ,  1.158035  ,\n",
              "        0.45998332, 17.031517  ,  2.1759253 ,  5.7700453 ,  3.7631516 ,\n",
              "        4.048271  ,  0.49240753,  0.99791193,  7.498913  ,  0.39706463,\n",
              "        2.42352   ,  2.2892845 ,  0.39706463,  4.2857795 ,  0.5344728 ,\n",
              "        2.2589674 ,  0.4856887 ,  0.31913358,  3.359088  ,  0.4121384 ],\n",
              "      dtype=float32)"
            ]
          },
          "execution_count": 138,
          "metadata": {},
          "output_type": "execute_result"
        }
      ],
      "source": [
        "predictions"
      ]
    },
    {
      "cell_type": "code",
      "execution_count": 139,
      "metadata": {},
      "outputs": [],
      "source": [
        "# open a file, where you ant to store the data\n",
        "file = open('xGBoost_model.pkl', 'wb')\n",
        "\n",
        "# dump information to that file\n",
        "pickle.dump(xg_reg, file)"
      ]
    },
    {
      "cell_type": "code",
      "execution_count": 140,
      "metadata": {},
      "outputs": [],
      "source": [
        "loaded_model = pickle.load(open(\"xGBoost_model.pkl\", \"rb\"))"
      ]
    },
    {
      "cell_type": "code",
      "execution_count": 141,
      "metadata": {},
      "outputs": [
        {
          "data": {
            "text/plain": [
              "XGBRegressor(base_score=0.5, booster='gbtree', callbacks=None,\n",
              "             colsample_bylevel=1, colsample_bynode=1, colsample_bytree=1,\n",
              "             early_stopping_rounds=None, enable_categorical=False,\n",
              "             eval_metric=None, gamma=0, gpu_id=-1, grow_policy='depthwise',\n",
              "             importance_type=None, interaction_constraints='',\n",
              "             learning_rate=0.15, max_bin=256, max_cat_to_onehot=4,\n",
              "             max_delta_step=0, max_depth=5, max_leaves=0, min_child_weight=1,\n",
              "             missing=nan, monotone_constraints='()', n_estimators=10, n_jobs=0,\n",
              "             num_parallel_tree=1, predictor='auto', random_state=0, reg_alpha=0,\n",
              "             reg_lambda=1, ...)"
            ]
          },
          "execution_count": 141,
          "metadata": {},
          "output_type": "execute_result"
        }
      ],
      "source": [
        "loaded_model"
      ]
    }
  ],
  "metadata": {
    "colab": {
      "collapsed_sections": [],
      "name": "finalYearProject.ipynb",
      "provenance": []
    },
    "interpreter": {
      "hash": "916dbcbb3f70747c44a77c7bcd40155683ae19c65e1c03b4aa3499c5328201f1"
    },
    "kernelspec": {
      "display_name": "Python 3.8.10 64-bit",
      "language": "python",
      "name": "python3"
    },
    "language_info": {
      "codemirror_mode": {
        "name": "ipython",
        "version": 3
      },
      "file_extension": ".py",
      "mimetype": "text/x-python",
      "name": "python",
      "nbconvert_exporter": "python",
      "pygments_lexer": "ipython3",
      "version": "3.8.10"
    }
  },
  "nbformat": 4,
  "nbformat_minor": 0
}
